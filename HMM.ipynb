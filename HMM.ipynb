{
 "cells": [
  {
   "cell_type": "markdown",
   "metadata": {},
   "source": [
    "# Intro\n",
    "\n",
    "In this notebook we are gonna attempt to train a HMM (Hiden Markov Model). The goal is make an HMM that will recognize Named Entities.\n",
    "\n",
    "For this notebook we are going to use the HMM tagger from NLTK which has a trainer and implements the Viterbi Algorithm to generate predictions."
   ]
  },
  {
   "cell_type": "markdown",
   "metadata": {},
   "source": [
    "## 1. HMM Theory\n",
    "Before starting let's birefly review a little bit about HMM:   \n",
    "( Summary based on this lecture:  https://www.cs.bgu.ac.il/~elhadad/nlp11/prob/postagging.pdf )\n",
    "\n",
    "One common use for HMM is to solve the Part of Speech problem defined as:   \n",
    "**Given a word sequence $w_1, w_2, w3 .. w_m$  determine the corresponding POS tag sequence  $t_1, t_2, t_3 .. t_m$**\n",
    "\n",
    "### Problem statement from a probabilistic point of view\n",
    "\n",
    "Find the most probable sequence of tags for a given sequence of words: \n",
    "\n",
    "$$argmax_{t_1..t_m}P(t_1..t_m | w_1 .. w_m)$$  \n",
    "Applying Bayes Theorem we can re-define:   \n",
    "$$= argmax_{t_1..t_m}\\frac{P(t_1..t_m)P(w_1..w_m|t_1..t_m)}{P(w_1..w_m)}$$   \n",
    "$$= argmax_{t_1..t_m}{P(t_1..t_m)P(w_1..w_m|t_1..t_m)}$$\n",
    "\n",
    "\n",
    "\n",
    "The resulting expression can be read as: Find the sequence of tags t1..tm that is more likely to appear in a text and produce the sequence of words w1..wm. \n",
    "\n",
    "### Independence assumptions\n",
    "There are some assumptions made that constrain the problem:\n",
    "- Contextual Model: Tags are dependent only on the precedent tags.\n",
    "- Lexical Model: Words are dependent only on their own part-of-speech tag.\n",
    "\n",
    "Thus the problem expression changes to:\n",
    "$$= argmax_{t_1..t_m} \\prod_{i=1}^{m}P(t_i|t_{i-1})P(w_i|t_i)$$\n"
   ]
  },
  {
   "cell_type": "markdown",
   "metadata": {},
   "source": [
    "### How does a HMM help in solving the problem?\n",
    "Well the hmm fits this problem perfectly.   \n",
    "**A HMM consists of 5 parts**\n",
    "- a finite set of states  *States = { $s_1 ... s_k$ }*  these are the tags.\n",
    "- a finite set of signal alphabet *Signals = { $o_1 .. o_m$ }* these are the possible words.\n",
    "- Initial probabilities *$P(s)$ for every s in States*. i.e. the probability of starting on s.\n",
    "- Transition probabilities *$P( s_i | s_j )$*\n",
    "- Emission probabilities   *$P( o | s )$*\n",
    "\n",
    "**The state transitions are assumed dependent only on the state   \n",
    "(just as the Contextual Model of POS)**\n",
    "\n",
    "$$P(s_1..s_n) = \\prod_{i=1}^n P(s_i | s_{i-1} ) )$$ \n",
    "\n",
    "** Signal emmisions are assumed to be dependent only on the current states   \n",
    "(just as Lexical Model of the POS)**\n",
    "\n",
    "$$ P( s_1..s_n, o_1, o_n ) = \\prod_{i=1}^n P(s_i | s_{i-1} ) P(o_i | s_i )$$\n"
   ]
  },
  {
   "cell_type": "markdown",
   "metadata": {},
   "source": [
    "### Parameter Estimation\n",
    "So, we got a model that fits the description of the problem, now what?   \n",
    "Answer: Well, let's see what we have according to the problem statement:   \n",
    "**What we have:**\n",
    "- A sequence of words which we can be considered as signal emissions.\n",
    "- A sequence of POS tags which we can be considered as the corresponding states (only for supervised learning).\n",
    "- The signal alphabet which is the set of unique words.\n",
    "- The states which is the set of unique POS tags (only for supervised learning).\n",
    "\n",
    "**What we don't have and is missing to complete the model:**\n",
    "- The Initial probabilities\n",
    "- The Transitions probabilities\n",
    "- The Emission probabilities\n",
    "\n",
    "There are two approaches to obtain these probabilities:\n",
    "- **Supervised Learning:** Using frequency counts from a tagged corpus in order to use a MLE estimator(Maximum Likelihood Estimation)\n",
    "- **Unsupervised Learning:** Use an expectation-maximization algorithm from an untagged corpus.\n",
    "\n",
    "For this notebook we're gonna focus on the supervised learning using MLE.\n",
    "\n",
    "#### Maximum Likelihood Estimation\n",
    "\n",
    "This is a fairly simple task to do:\n",
    "\n",
    "**Initial and Transition probabilities**  \n",
    "$$\\hat{P}(s_i | s_{i-1} ) = \\frac{Count(s_{i-1}, s_i)}{Count(s_{i-1})} $$   \n",
    "**Emission probabilities**    \n",
    "$$\\hat{P}(o | s ) = \\frac{Count(o, s)}{Count(s)} $$"
   ]
  },
  {
   "cell_type": "markdown",
   "metadata": {},
   "source": [
    "### Tagging\n",
    "\n",
    "Great! So now we have all the components of the Hidden Markov Model. Are we done? No.    \n",
    "Let's remember the initial task:\n",
    "> **Given a word sequence $w_1, w_2, w_3 .. w_m $ determine the corresponding POS tag sequence  $t_1, t_2, t_3 .. t_m$**    \n",
    "$$argmax_(t_1..t_m) \\prod_{i=1}^m P(t_i) P(w_i|t_i) $$\n",
    "\n",
    "We need to find the tags (aka the states) that maximize the expression! \n",
    "\n",
    "A common algorithm to solve the maximization problem in HMM is called the Viterbi Algorithm. Given a sequence of signals, the Viterbi algorithm finds the optimal path in a HMM (i.e. the path that that maximizes the Probability of producing the signal sequence). The Viterbi algorithm does this by applying dynamic programming techniques instead of analyzing every possible path.\n",
    "\n",
    "In the inside the Viterbi algorithm uses a trellis with nodes that represent the possible states at each step. Using the trellis the algorithm then proceeds to calculate the probability of being in each state at each step. At the same time the algorithm saves into a back-pointer the edge with the maximum probability of transitioning from one step-state to another step-state. After finishing the Viterbi algorithm just follows the maximum back-pointers path from the end to the start node, thus giving us the states that maximize the probability of producing the signal sequence.\n",
    "\n",
    "More details on the Viterbi algorithm can be found here: \n",
    "http://web.mit.edu/6.02/www/f2010/handouts/lectures/L9.pdf"
   ]
  },
  {
   "cell_type": "markdown",
   "metadata": {},
   "source": [
    "# 2. Hands-on: Clone the NLTK POS tagging demo\n",
    "In order to understand how to use the nltk hmm first we're gonna clone the nltk Part-of-Speech (POS) tagging demo found in \n",
    "http://www.nltk.org/_modules/nltk/tag/hmm.html#demo_pos"
   ]
  },
  {
   "cell_type": "markdown",
   "metadata": {},
   "source": [
    "The first thing the demo does is call the function *load_pos( )*. That function basically gets and preprocess the data.\n",
    "\n",
    "So unwrapping the function, first we are going to import the brown corpus and limit it to a number of sentences."
   ]
  },
  {
   "cell_type": "code",
   "execution_count": 176,
   "metadata": {
    "collapsed": false
   },
   "outputs": [
    {
     "name": "stderr",
     "output_type": "stream",
     "text": [
      "/Users/alextabora/anaconda/lib/python2.7/site-packages/matplotlib/font_manager.py:273: UserWarning: Matplotlib is building the font cache using fc-list. This may take a moment.\n",
      "  warnings.warn('Matplotlib is building the font cache using fc-list. This may take a moment.')\n"
     ]
    }
   ],
   "source": [
    "# general purpose libraries\n",
    "import pandas as pd\n",
    "import matplotlib.pyplot as plt\n",
    "\n",
    "#import the brown corpuz\n",
    "from nltk.corpus import brown\n",
    "\n",
    "num_sentences = 10000\n",
    "\n",
    "#using simplified tagset instead of \"cleaning\" the tags\n",
    "sentences = brown.tagged_sents(categories='news', tagset='universal')[:num_sentences]  #"
   ]
  },
  {
   "cell_type": "markdown",
   "metadata": {},
   "source": [
    "Then, we are going to normalize the words and generate a vocabulary set and a tag set"
   ]
  },
  {
   "cell_type": "code",
   "execution_count": 44,
   "metadata": {
    "collapsed": false
   },
   "outputs": [
    {
     "name": "stdout",
     "output_type": "stream",
     "text": [
      "tag set length: 12\n",
      "vocabulary set length: 13112\n",
      "sentences length: 4623\n"
     ]
    }
   ],
   "source": [
    "tag_set = set()\n",
    "vocab_set = set()\n",
    "norm_sentences = []\n",
    "\n",
    "for sent in sentences:\n",
    "    for idx, word in enumerate(sent):\n",
    "        #normalize the word\n",
    "        norm_word = word[0].lower()  \n",
    "        #add to sets\n",
    "        vocab_set.add(norm_word)\n",
    "        tag_set.add(word[1])\n",
    "        #modify the sentence\n",
    "        sent[idx] = (norm_word, word[1])\n",
    "    #add sentence to new list\n",
    "    norm_sentences += [sent]\n",
    "    \n",
    "    \n",
    "print \"tag set length: %i\" %len(tag_set)\n",
    "print \"vocabulary set length: %i\" %len(vocab_set)\n",
    "print \"sentences length: %i\" %len(norm_sentences)"
   ]
  },
  {
   "cell_type": "markdown",
   "metadata": {},
   "source": [
    "**Let's take a sneak peek to the tag set and the vocabulary sets:**"
   ]
  },
  {
   "cell_type": "code",
   "execution_count": 41,
   "metadata": {
    "collapsed": false
   },
   "outputs": [
    {
     "name": "stdout",
     "output_type": "stream",
     "text": [
      "Tag Set:\n",
      "set([u'ADV', u'NOUN', u'ADP', u'PRON', u'DET', u'.', u'PRT', u'VERB', u'X', u'NUM', u'CONJ', u'ADJ'])\n",
      "\n",
      "Vocabulary Set (first 10):\n",
      "[u'sunbonnet', u'yellow', u'narcotic', u'four', u'woods', u'boogie', u'railing', u'francesca', u'aggression', u'marching']\n"
     ]
    }
   ],
   "source": [
    "print \"Tag Set:\"\n",
    "print tag_set\n",
    "print \n",
    "print \"Vocabulary Set (first 10):\"\n",
    "print list(vocab_set)[:10]"
   ]
  },
  {
   "cell_type": "markdown",
   "metadata": {},
   "source": [
    "Everything seems in order, the tag set values are the POS tags which we wish to predict and the vocabulary set has the  unique words but in lower case.\n",
    "\n",
    "### Training the HMM tagger\n",
    "\n",
    "Ok, so to train the model we need to create an instance of a HMM Trainer. The trainer contains functions that generate the model either by **Supervised Learning using MLE (Maximum Likelihood Estimation)** or **Unsupervised Learning using Baum-Welch Algorithm**.  \n",
    "\n",
    "The init function for HMM trainer has the following inputs:\n",
    "- **states:** these are the tags \n",
    "- **symbols:** this is the word vocabulary \n",
    "\n",
    "We are going to use the *train_supervised()* method in order to train the model (aka estimate the HMM probabilities) using the MLE algorithm. This is just as we discussed in the theoretical summary :) \n",
    "\n",
    "Finally we will test the model accuracy with the *test()* method. Notice that for this simple example only 10 sentences were used as a testing dataset."
   ]
  },
  {
   "cell_type": "code",
   "execution_count": 45,
   "metadata": {
    "collapsed": false
   },
   "outputs": [
    {
     "name": "stdout",
     "output_type": "stream",
     "text": [
      "accuracy over 284 tokens: 53.52\n"
     ]
    }
   ],
   "source": [
    "from nltk.tag import HiddenMarkovModelTrainer\n",
    "trainer = HiddenMarkovModelTrainer(states=tag_set, symbols=vocab_set)\n",
    "\n",
    "#training the model using the default MLE\n",
    "hmm = trainer.train_supervised(norm_sentences[10:])\n",
    "#testing the model\n",
    "hmm.test(norm_sentences[:10], verbose=False)"
   ]
  },
  {
   "cell_type": "markdown",
   "metadata": {},
   "source": [
    "As we can see the accuracy is low. To get a better score we can use a smoothed probability estimator.\n",
    "\n",
    "To smooth the MLE estimation we are gonna override the estimator using a Lidstone estimator (additive smoothing). \n",
    "https://en.wikipedia.org/wiki/Additive_smoothing\n",
    "\n",
    "This estimator basically assumes that there are no event probability = 0 by adding a value to the nominator.\n",
    "\n",
    "$$ O_i = \\frac{x_i + gamma}{N+ d*gamma}$$ where $0 <= gamma <=1$ and $i$ in $1..d$ (d is the number of bins)\n",
    "\n",
    "The smoothed probability will be in between the empirical estimate $\\frac{count(x)}{N}$ and the uniform probability $\\frac{1}{d}$. \n",
    "\n"
   ]
  },
  {
   "cell_type": "code",
   "execution_count": 94,
   "metadata": {
    "collapsed": false
   },
   "outputs": [
    {
     "name": "stdout",
     "output_type": "stream",
     "text": [
      "accuracy over 284 tokens: 93.66\n"
     ]
    }
   ],
   "source": [
    "from nltk.probability import LidstoneProbDist\n",
    "#training with another estimator\n",
    "hmm = trainer.train_supervised(\n",
    "    norm_sentences[10:],\n",
    "    estimator= lambda fd, bins: LidstoneProbDist(fd, 0.1, bins)\n",
    ")\n",
    "#testing the model\n",
    "hmm.test(norm_sentences[:10], verbose=False)"
   ]
  },
  {
   "cell_type": "markdown",
   "metadata": {},
   "source": [
    "Now this is quite of an improvement for the model.\n",
    "\n",
    "We have now successfully cloned the demo. It is time to do a challenge by ourselves."
   ]
  },
  {
   "cell_type": "markdown",
   "metadata": {},
   "source": [
    "# 3. Challenge\n",
    "\n",
    "The challenge is to use the hmm tagger to recognize Named Entities (NE).\n",
    "\n",
    "For this challenge we are going to use the spanish set of the conll2002 corpus. (At this moment it was the only NE tagged corpus in I found in NLTK )\n",
    "\n",
    "The nice thing about this corpus is that it has already splitted a train and test datasets.\n"
   ]
  },
  {
   "cell_type": "code",
   "execution_count": 167,
   "metadata": {
    "collapsed": false
   },
   "outputs": [
    {
     "name": "stdout",
     "output_type": "stream",
     "text": [
      "number of train: 8323\n",
      "number of test: 1517\n"
     ]
    }
   ],
   "source": [
    "from nltk.corpus import conll2002\n",
    "train_sents = list(conll2002.iob_sents('esp.train'))\n",
    "test_sents = list(conll2002.iob_sents('esp.testb'))\n",
    "print \"number of train: %i\" %len(train_sents)\n",
    "print \"number of test: %i\" %len(test_sents)"
   ]
  },
  {
   "cell_type": "markdown",
   "metadata": {},
   "source": [
    "Let's take a sneak peek of how the sentences look "
   ]
  },
  {
   "cell_type": "code",
   "execution_count": 160,
   "metadata": {
    "collapsed": false
   },
   "outputs": [
    {
     "data": {
      "text/plain": [
       "[(u'Melbourne', u'NP', u'B-LOC'),\n",
       " (u'(', u'Fpa', u'O'),\n",
       " (u'Australia', u'NP', u'B-LOC'),\n",
       " (u')', u'Fpt', u'O'),\n",
       " (u',', u'Fc', u'O'),\n",
       " (u'25', u'Z', u'O'),\n",
       " (u'may', u'NC', u'O'),\n",
       " (u'(', u'Fpa', u'O'),\n",
       " (u'EFE', u'NC', u'B-ORG'),\n",
       " (u')', u'Fpt', u'O'),\n",
       " (u'.', u'Fp', u'O')]"
      ]
     },
     "execution_count": 160,
     "metadata": {},
     "output_type": "execute_result"
    }
   ],
   "source": [
    "train_sents[0]"
   ]
  },
  {
   "cell_type": "markdown",
   "metadata": {},
   "source": [
    "As we can observe each word has 3 fields:\n",
    "- The word\n",
    "- The Part-of-Speech Tag\n",
    "- The IOB tag with the NE type\n",
    "\n",
    "### Preprocessing\n",
    "\n",
    "So let's recall what we need: \n",
    "- The symbols\n",
    "- The states  \n",
    "- A labeled sequence. \n",
    "\n",
    "In this case the symbols are going to be a tuple of two features:  ( Word , POS tag )   \n",
    "*Note: we are using only two features for this simple challenge you can experiment adding more features... I'll certainly will do in another notebook ;) *"
   ]
  },
  {
   "cell_type": "code",
   "execution_count": 168,
   "metadata": {
    "collapsed": true
   },
   "outputs": [],
   "source": [
    "# this function preprocesses the array of sentences and return the symbols and states\n",
    "def preprocess_conll(sents):\n",
    "    symbols = set()\n",
    "    states = set()\n",
    "    \n",
    "    for sent in sents:\n",
    "        for idx, word in enumerate(sent):\n",
    "            #normalize the word\n",
    "            norm_word = word[0].lower()  \n",
    "            #add to sets\n",
    "            symbols.add( (norm_word, word[1]) ) #in this case the symbol is a tuple of features\n",
    "            states.add(word[2])\n",
    "            \n",
    "            #modify the sentence\n",
    "            sent[idx] = ( (norm_word, word[1] ), word[2])\n",
    "    \n",
    "    return symbols, states"
   ]
  },
  {
   "cell_type": "code",
   "execution_count": 169,
   "metadata": {
    "collapsed": false
   },
   "outputs": [
    {
     "name": "stdout",
     "output_type": "stream",
     "text": [
      "number of symbols: 26726\n",
      "number of states: 9\n"
     ]
    }
   ],
   "source": [
    "#train set\n",
    "symbols, states =  preprocess_conll(train_sents)\n",
    "#test set\n",
    "preprocess_conll(test_sents)\n",
    "\n",
    "print \"number of symbols: %i\" %len(symbols)\n",
    "print \"number of states: %i\" %len(states)"
   ]
  },
  {
   "cell_type": "markdown",
   "metadata": {},
   "source": [
    "Just a sneak peek to the data to be sure everything is ok"
   ]
  },
  {
   "cell_type": "code",
   "execution_count": 174,
   "metadata": {
    "collapsed": false
   },
   "outputs": [
    {
     "name": "stdout",
     "output_type": "stream",
     "text": [
      "-- states -- \n",
      "set([u'I-LOC', u'B-ORG', u'I-PER', u'O', u'I-MISC', u'B-MISC', u'I-ORG', u'B-LOC', u'B-PER'])\n",
      "\n",
      "-- symbols (first 10) -- \n",
      "[(u'!', u'Fat'), (u'\"', u'Fe'), (u'\"bike-\\xe1rea\"', u'NC'), (u'\"ch\\xe9\"', u'AQ'), (u'\"macho\"', u'AQ'), (u'\"sharia\"', u'NC'), (u'%', u'Ft'), (u'%var', u'AQ'), (u\"'\", u'Fz'), (u\"'18\", u'Z')]\n"
     ]
    }
   ],
   "source": [
    "print \"-- states -- \"\n",
    "print states\n",
    "print\n",
    "print \"-- symbols (first 10) -- \"\n",
    "print sorted(list(symbols))[:10]"
   ]
  },
  {
   "cell_type": "markdown",
   "metadata": {},
   "source": [
    "## Train the HMM \n",
    "\n",
    "Just like before let's repeat the code to train a Hidden Markov Model"
   ]
  },
  {
   "cell_type": "code",
   "execution_count": 147,
   "metadata": {
    "collapsed": false,
    "scrolled": true
   },
   "outputs": [
    {
     "name": "stdout",
     "output_type": "stream",
     "text": [
      "- Creating Trainer\n",
      "- Training\n",
      "- Testing\n",
      "accuracy over 3711 tokens: 93.56\n"
     ]
    }
   ],
   "source": [
    "print \"- Creating Trainer\"\n",
    "NE_trainer = HiddenMarkovModelTrainer(states= NE_tag_set, symbols= NE_vocab_set)\n",
    "\n",
    "#training with another estimator\n",
    "print \"- Training\"\n",
    "NE_hmm = NE_trainer.train_supervised(\n",
    "    train_sents,\n",
    "    estimator= lambda fd, bins: LidstoneProbDist(fd, 0.1, bins)\n",
    ")\n",
    "\n",
    "print \"- Testing\"\n",
    "#testing the model limited to 100 because of performance issues\n",
    "NE_hmm.test(test_sents[:100], verbose=False)"
   ]
  },
  {
   "cell_type": "markdown",
   "metadata": {},
   "source": [
    "### Deceiving scores....\n",
    "So by the looks everything is doing great with the **93.56% of accuracy!**. However the truth is, that we cannot just go with the accuracy score. We should look deeper into the data and the scores.\n",
    "\n",
    "Let's check if the classes are unbalanced.. ( I always get this bad feeling about overly optimistic scores )"
   ]
  },
  {
   "cell_type": "code",
   "execution_count": 199,
   "metadata": {
    "collapsed": false
   },
   "outputs": [
    {
     "data": {
      "image/png": "[encoded data removed]",
      "text/plain": [
       "<matplotlib.figure.Figure at 0x114516190>"
      ]
     },
     "metadata": {},
     "output_type": "display_data"
    }
   ],
   "source": [
    "iob_tags = []\n",
    "for sent in test_sents[:100]:    \n",
    "    iob_tags += [ str(w[1]) for w in sent]\n",
    "    \n",
    "iob_tags = pd.Series(iob_tags)\n",
    "iob_tags.value_counts().plot('bar')\n",
    "plt.show()"
   ]
  },
  {
   "cell_type": "markdown",
   "metadata": {},
   "source": [
    "Aha! As we can see in the graph, the classes are really unbalanced, specially in the 'O' class. In this cases is better to use other scoring methods like precision, recall and f-score.  \n",
    "\n",
    "## Other scoring methods...\n",
    "\n",
    "Fortunately sklearn has a function that called classification_report that can shows us what's really happening. \n",
    "\n",
    "Below we're gonna use the tag() method from HMM to get the predictions and compare them with the true labels."
   ]
  },
  {
   "cell_type": "code",
   "execution_count": 200,
   "metadata": {
    "collapsed": false
   },
   "outputs": [
    {
     "name": "stdout",
     "output_type": "stream",
     "text": [
      "- Tagging (Predicting)\n",
      "\n",
      "             precision    recall  f1-score   support\n",
      "\n",
      "      B-LOC       0.65      0.55      0.59        73\n",
      "     B-MISC       0.26      0.22      0.24        23\n",
      "      B-ORG       0.84      0.72      0.77       116\n",
      "      B-PER       0.76      0.64      0.69        55\n",
      "      I-LOC       0.80      0.55      0.65        22\n",
      "     I-MISC       0.22      0.33      0.27        24\n",
      "      I-ORG       0.64      0.69      0.66        91\n",
      "      I-PER       0.75      0.88      0.81        49\n",
      "          O       0.97      0.98      0.97      3258\n",
      "\n",
      "avg / total       0.94      0.94      0.94      3711\n",
      "\n"
     ]
    }
   ],
   "source": [
    "from sklearn.metrics import classification_report\n",
    "\n",
    "print \"- Tagging (Predicting)\"\n",
    "words = []\n",
    "true_labels = []\n",
    "pred_labels = []\n",
    "for sent in test_sents[:100]:\n",
    "    words += [w[0] for w in sent]\n",
    "    true_labels += [w[1] for w in sent]\n",
    "    sent_preds = NE_hmm.tag([w[0] for w in sent])\n",
    "    pred_labels += [w[1] for w in sent_preds]\n",
    "print \n",
    "print classification_report(true_labels, pred_labels)"
   ]
  },
  {
   "cell_type": "markdown",
   "metadata": {},
   "source": [
    "As we can observe, on many classes the f1-score is low with values as low as 0.24. What's happening with our accuracy is that the class label 'O' has many positive samples (3,258) and this is affecting the overall score.\n",
    "\n",
    "If we ignore that class label, which is not the focus of what we are trying to classify the average results change drastically:"
   ]
  },
  {
   "cell_type": "code",
   "execution_count": 201,
   "metadata": {
    "collapsed": false
   },
   "outputs": [
    {
     "name": "stdout",
     "output_type": "stream",
     "text": [
      "             precision    recall  f1-score   support\n",
      "\n",
      "      B-LOC       0.65      0.55      0.59        73\n",
      "     B-MISC       0.26      0.22      0.24        23\n",
      "      B-ORG       0.84      0.72      0.77       116\n",
      "      B-PER       0.76      0.64      0.69        55\n",
      "      I-LOC       0.80      0.55      0.65        22\n",
      "     I-MISC       0.22      0.33      0.27        24\n",
      "      I-ORG       0.64      0.69      0.66        91\n",
      "      I-PER       0.75      0.88      0.81        49\n",
      "\n",
      "avg / total       0.68      0.64      0.66       453\n",
      "\n"
     ]
    }
   ],
   "source": [
    "print classification_report(true_labels, pred_labels, labels=sorted(list(NE_tag_set))[:-1])"
   ]
  },
  {
   "cell_type": "markdown",
   "metadata": {},
   "source": [
    "a f1-score of .66 is not very good, but for this simple challenge it seems ok. Probably adding more relevant features will make the score go higher (e.g. Capitalized words, N-grams, gazetteer, trigger words etc... ).\n",
    "\n",
    "## Entity based scoring\n",
    "So far, the score has been based on the IOB tags for entities, but the real goal of NE tagging is to be able to recognize the entities. Therefore, we should score on how many entities did the model find. \n",
    "\n",
    "One common approach to score on an entity basis is to consider only complete entities as correct and partial recognized entities as incorrect. Having said that, we must keep in mind that a mistake of a partial entity will cause a double penalty since it will be accounted as a false positive and a false negative which seems fine to many academic literature.\n",
    "\n",
    "In the code below, the entities are extracted using the IOB tags (label and pred) and then it is measured wether the model recognized correctly an entity."
   ]
  },
  {
   "cell_type": "code",
   "execution_count": 202,
   "metadata": {
    "collapsed": false
   },
   "outputs": [
    {
     "name": "stdout",
     "output_type": "stream",
     "text": [
      "--- Entity Based Report ---\n",
      "precision: 0.7522\n",
      "recall: 0.6367\n",
      "f_score: 0.6897\n",
      "support: 267.0000\n"
     ]
    }
   ],
   "source": [
    "#function that extracts the entities using the IOB tags\n",
    "def get_entities(df, column):\n",
    "    data = []\n",
    "    for idx, row in df.iterrows():\n",
    "        if row[column][0] == \"B\":\n",
    "            data.append([idx, row.word[0]])\n",
    "        elif row[column][0] == \"I\":\n",
    "            data[-1][1] += \" \" + row.word[0]\n",
    "    return data\n",
    "    \n",
    "\n",
    "# Function that extracts entities using the labels and predictions, \n",
    "# then compares both list of entities and counts the correct and incorrect predictions, and the missed predictions.\n",
    "def score_entities(words, true_labels, pred_labels):\n",
    "    \n",
    "    # extract the entities\n",
    "    df = pd.DataFrame({\n",
    "        \"word\": words,\n",
    "        \"label\":true_labels,\n",
    "        \"pred\": pred_labels\n",
    "    })\n",
    "    true_entities = get_entities(df, \"label\")\n",
    "    pred_entities = get_entities(df, \"pred\")\n",
    "    \n",
    "    \n",
    "    #count the correct and incorrect predictions, nd the missed predictions.\n",
    "    tp = 0\n",
    "    fp = 0\n",
    "    fn = 0\n",
    "    \n",
    "    #look if the predicted entity is in the gold standard.\n",
    "    for entity in pred_entities:\n",
    "        if entity in true_entities:\n",
    "            tp += 1\n",
    "        else:\n",
    "            fp += 1\n",
    "    #look for any missed prediction\n",
    "    for entity in true_entities:\n",
    "        if entity not in pred_entities:\n",
    "            fn += 1\n",
    "            \n",
    "    #calculate the scores and print them\n",
    "    precision = tp * 1.0 / (tp+fp)\n",
    "    recall = tp * 1.0 / (tp+fn)\n",
    "    f_score = 2.0 * precision * recall / (precision + recall)\n",
    "    support = len(true_entities)\n",
    "    \n",
    "    print \"--- Entity Based Report ---\"\n",
    "    print \"precision: %0.4f\" %precision\n",
    "    print \"recall: %0.4f\" %recall\n",
    "    print \"f_score: %0.4f\" %f_score\n",
    "    print \"support: %0.4f\" %support\n",
    "    \n",
    "    \n",
    "score_entities(words, true_labels, pred_labels)"
   ]
  },
  {
   "cell_type": "markdown",
   "metadata": {},
   "source": [
    "### Results\n",
    "As we can observe the model correctly identified ~64% of the Named Entities using only 2 features (which personally I find it not bad at all). The final f-score is of ~69% which probably can be improved by adding better features."
   ]
  },
  {
   "cell_type": "markdown",
   "metadata": {},
   "source": [
    "# Conclusion\n",
    "\n",
    "In this notebook we succesfully trained a HMM classifier using the NLTK library and with it we were able to use it for Named Entity Recognition. \n",
    "\n",
    "We've also learned that its better to score the results using more robust scoring methods such as precision, recall and f1. \n",
    "\n",
    "Finally, we scored the HMM results on identifying Named Entities instead of just the tags."
   ]
  }
 ],
 "metadata": {
  "anaconda-cloud": {},
  "kernelspec": {
   "display_name": "Python [conda root]",
   "language": "python",
   "name": "conda-root-py"
  },
  "language_info": {
   "codemirror_mode": {
    "name": "ipython",
    "version": 2
   },
   "file_extension": ".py",
   "mimetype": "text/x-python",
   "name": "python",
   "nbconvert_exporter": "python",
   "pygments_lexer": "ipython2",
   "version": "2.7.12"
  }
 },
 "nbformat": 4,
 "nbformat_minor": 1
}
